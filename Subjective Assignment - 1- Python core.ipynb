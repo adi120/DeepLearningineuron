{
 "cells": [
  {
   "cell_type": "markdown",
   "metadata": {},
   "source": [
    "Q1. Write a Python program to get the string from the given string where\n",
    "all the occurrence of its first char has been changed to '$,' except first\n",
    "char itself?\n",
    "\n",
    "    Sample String: 'prospect'\n",
    "    Expected Result : 'pros$ect'\n"
   ]
  },
  {
   "cell_type": "code",
   "execution_count": null,
   "metadata": {},
   "outputs": [],
   "source": [
    "word=input(\"Enter the string: \")\n",
    "if len(word)>0:\n",
    "    c=word[0]\n",
    "    ans=c\n",
    "    for i in range(1,len(word)):\n",
    "           if word[i]==c:\n",
    "               ans=ans+'$'\n",
    "           else:\n",
    "               ans=ans+word[i]\n",
    "    print(ans)\n",
    "else:\n",
    "    print(\"\")"
   ]
  },
  {
   "cell_type": "markdown",
   "metadata": {},
   "source": [
    "Q2. Write a Python program to get the single string from the two given\n",
    "strings, and separated by the space and swap the first two characters of\n",
    "each string?\n",
    "\n",
    "    Sample String : 'abc', 'xyz'.\n",
    "    Expected Result: 'xyc abz'"
   ]
  },
  {
   "cell_type": "code",
   "execution_count": null,
   "metadata": {},
   "outputs": [],
   "source": [
    "first,second=input(\"Enter first String: \"),input(\"Enter second String: \")\n",
    "if(len(first)>=2 and len(second)>=2):\n",
    "    temp=first[0:2]\n",
    "    first=second[0:2]+first[2:len(first)]\n",
    "    second=temp+second[2:len(second)]\n",
    "    ans=first+\" \"+second\n",
    "    print(ans)\n",
    "else:\n",
    "    print(\"The length of the input string is less than 2\")"
   ]
  },
  {
   "cell_type": "markdown",
   "metadata": {},
   "source": [
    "Q3. Write the Python program to add 'ing' at the end of the given string\n",
    "(length of the string should be at least 3). If given string already ends\n",
    "with 'ing,' then add 'ly' instead. If string length of the given string is less\n",
    "than 3, leave it unchanged?\n",
    "\n",
    "\n",
    "    Sample string: ' abc '\n",
    "    Expected result: ' abcing '\n",
    "    Sample string: ' string '\n",
    "    Expected result: ' stringly '\n"
   ]
  },
  {
   "cell_type": "code",
   "execution_count": 13,
   "metadata": {},
   "outputs": [
    {
     "name": "stdout",
     "output_type": "stream",
     "text": [
      "Enter the string: abc\n",
      "abcing\n"
     ]
    }
   ],
   "source": [
    "str=input(\"Enter the string: \")\n",
    "if len(str)>=3:\n",
    "    if str[-3:]=='ing':\n",
    "        str=str+'ly'\n",
    "    else:\n",
    "        str+='ing'\n",
    "        \n",
    "print(str)    "
   ]
  },
  {
   "cell_type": "markdown",
   "metadata": {},
   "source": [
    "Q4. Write the Python program to find the first appearance of the\n",
    "substring 'not' and 'poor' from the given string, if 'not' follows the 'poor',\n",
    "replace the whole 'not'...' poor' substring with 'good'.Return the resulting\n",
    "string.\n",
    "\n",
    "    Sample string: 'The lyrics are not that poor!'\n",
    "    'The lyrics are poor!'\n",
    "    Expected Result: 'The lyrics are good!'\n",
    "    'The lyrics are poor!'"
   ]
  },
  {
   "cell_type": "code",
   "execution_count": 12,
   "metadata": {},
   "outputs": [
    {
     "name": "stdout",
     "output_type": "stream",
     "text": [
      "Enter the String :The lyrics are not that poor!\\nThe lyrics are poor!\n",
      "The lyrics are good! \n"
     ]
    }
   ],
   "source": [
    "str=input(\"Enter the String :\")\n",
    "ans=\"\"\n",
    "flag=True\n",
    "s=str.split(\" \")\n",
    "for i in s:\n",
    "    if i=='not':\n",
    "        flag=False    \n",
    "    if flag:\n",
    "        ans+=i\n",
    "        ans+=' '\n",
    "    if i=='poor!' and flag==False:\n",
    "        flag=True\n",
    "        ans+='good!'\n",
    "        ans+=' '\n",
    "        \n",
    "print(ans)        \n",
    "        \n",
    "        "
   ]
  },
  {
   "cell_type": "markdown",
   "metadata": {},
   "source": [
    "Q5. Write the Python program to remove the characters which have odd\n",
    "index values of a given string."
   ]
  },
  {
   "cell_type": "code",
   "execution_count": 11,
   "metadata": {},
   "outputs": [
    {
     "name": "stdout",
     "output_type": "stream",
     "text": [
      "Enter your stringAditya\n",
      "String after removing odd index values is:  Aiy\n"
     ]
    }
   ],
   "source": [
    "str=input(\"Enter your string\")\n",
    "ans=str[0]\n",
    "for i in range(1,len(str)):\n",
    "    if i%2==0:\n",
    "        ans+=str[i]\n",
    "str=ans\n",
    "print(\"String after removing odd index values is:  \"+str)\n"
   ]
  },
  {
   "cell_type": "markdown",
   "metadata": {},
   "source": [
    "Q6. Write the python program to print the following floating numbers up\n",
    "to 2 decimal places?"
   ]
  },
  {
   "cell_type": "code",
   "execution_count": 9,
   "metadata": {},
   "outputs": [
    {
     "name": "stdout",
     "output_type": "stream",
     "text": [
      "Enter the floating point numbers seperated by space :1.234 1.23434 1.1 2.32\n",
      "1.23\n",
      "1.23\n",
      "1.10\n",
      "2.32\n"
     ]
    }
   ],
   "source": [
    "l=[float(x) for x in input(\"Enter the floating point numbers seperated by space :\").split()]\n",
    "for i in l:\n",
    "    print(\"%.2f\"%i)"
   ]
  },
  {
   "cell_type": "markdown",
   "metadata": {},
   "source": [
    "Q7. Write the Python program to format a number with a percentage?"
   ]
  },
  {
   "cell_type": "code",
   "execution_count": 16,
   "metadata": {},
   "outputs": [
    {
     "name": "stdout",
     "output_type": "stream",
     "text": [
      "\n",
      "Original Number:  0.34\n",
      "Formatted Number with percentage: 34.00%\n"
     ]
    }
   ],
   "source": [
    "x = 0.34\n",
    "print(\"\\nOriginal Number: \", x)\n",
    "print(\"Formatted Number with percentage: \"+\"{:.2%}\".format(x));\n"
   ]
  },
  {
   "cell_type": "markdown",
   "metadata": {},
   "source": [
    "Q8. Write the Python program to count occurrences of a substring in a\n",
    "String?"
   ]
  },
  {
   "cell_type": "code",
   "execution_count": 17,
   "metadata": {},
   "outputs": [
    {
     "name": "stdout",
     "output_type": "stream",
     "text": [
      "Enter your string: The book is green and the book is good\n",
      "\n",
      "Enter your substring is\n",
      "2\n",
      "\n"
     ]
    }
   ],
   "source": [
    "str1 = input(\"Enter your string: \")\n",
    "print()\n",
    "str2=input(\"Enter your substring \")\n",
    "print(str1.count(str2))\n",
    "print()\n"
   ]
  },
  {
   "cell_type": "markdown",
   "metadata": {},
   "source": [
    "Q9. Write the Python program to count repeated characters in a string.\n",
    "\n",
    "    Sample string: ' thequickbrownjumpsoverthelazydog '\n",
    "    \n",
    "    Expected output:\n",
    "    o 3\n",
    "    e 3\n",
    "    u 2\n",
    "    h 2\n",
    "    r 2\n",
    "    t 2"
   ]
  },
  {
   "cell_type": "code",
   "execution_count": 23,
   "metadata": {},
   "outputs": [
    {
     "name": "stdout",
     "output_type": "stream",
     "text": [
      "Enter your string thequickbrownjumpsoverthelazydog\n",
      "e   3\n",
      "h   2\n",
      "o   3\n",
      "r   2\n",
      "t   2\n",
      "u   2\n"
     ]
    }
   ],
   "source": [
    "str1=input(\"Enter your string \")\n",
    "ans={}\n",
    "for i in str1:\n",
    "    if i in ans:\n",
    "        ans[i]=ans[i]+1\n",
    "    else:\n",
    "        ans[i]=1\n",
    "for i in sorted(ans):\n",
    "    if(ans[i]>1):\n",
    "        print(i,\" \",ans[i])"
   ]
  },
  {
   "cell_type": "markdown",
   "metadata": {},
   "source": [
    "Q10. Write the Python program to print the square and cube symbol in\n",
    "the area of a rectangle and volume of a cylinder?\n",
    "\n",
    "    Sample outputThe area of the rectangle is 1256.66cm2\n",
    "    The volume of the cylinder is 1254.725cm3\n"
   ]
  },
  {
   "cell_type": "code",
   "execution_count": 11,
   "metadata": {},
   "outputs": [
    {
     "name": "stdout",
     "output_type": "stream",
     "text": [
      "Enter length and breadth of rectangle: 12 13\n",
      "Enter radius and height of cylinder: 23 23\n",
      "The area of your rectangle is 156.0cm²\n",
      "The area of your cylinder is 38204.380000000005cm³\n"
     ]
    }
   ],
   "source": [
    "a,b=(input(\"Enter length and breadth of rectangle: \").split())\n",
    "area=float(a)*float(b)\n",
    "r,h=(input(\"Enter radius and height of cylinder: \").split())\n",
    "volume=(3.14)*(float(r)*float(r))*float(h)\n",
    "print(\"The area of your rectangle is {}cm\\u00b2\".format(area))\n",
    "print(\"The area of your cylinder is {}cm\\u00b3\".format(volume))\n"
   ]
  },
  {
   "cell_type": "markdown",
   "metadata": {},
   "source": [
    "Q11. Write the Python program to check if a string contains all letters of\n",
    "the alphabet?"
   ]
  },
  {
   "cell_type": "code",
   "execution_count": 5,
   "metadata": {},
   "outputs": [
    {
     "name": "stdout",
     "output_type": "stream",
     "text": [
      "Enter your string:Abcdefghijklmnopqrstuvwxyz\n",
      "All alphabets\n"
     ]
    }
   ],
   "source": [
    "char=[0 for i in range(0,26)]\n",
    "str=input(\"Enter your string:\").upper()\n",
    "for i in str:\n",
    "    char[ord(i)-65]=1\n",
    "for i in char:\n",
    "    if i==0:\n",
    "        print(\"Not all alphabets\")\n",
    "        break\n",
    "else:\n",
    "    print(\"All alphabets\")"
   ]
  },
  {
   "cell_type": "markdown",
   "metadata": {},
   "source": [
    "Q12. Write the Python program to find the second most repeated word\n",
    "in a given string?"
   ]
  },
  {
   "cell_type": "code",
   "execution_count": 12,
   "metadata": {},
   "outputs": [
    {
     "name": "stdout",
     "output_type": "stream",
     "text": [
      "Enter your string: daxsa\n",
      "['daxsa']\n"
     ]
    }
   ],
   "source": [
    "str=input(\"Enter your string: \")\n",
    "words=str.split()\n",
    "count={}\n",
    "ans=[]\n",
    "for word in words:\n",
    "    if word in count:\n",
    "        count[word]+=1\n",
    "    else:\n",
    "        count[word]=1\n",
    "value=sorted(count.values(),reverse=True)\n",
    "secondlargest=value[0])\n",
    "for i in range(1,len(value)):\n",
    "    if(value[i]!=value[0]):\n",
    "        secondlargest=value[i]\n",
    "        break   \n",
    "for (k,v) in count.items():\n",
    "    if(v==secondlargest):\n",
    "        ans.append(k)       \n",
    "print(ans) \n"
   ]
  },
  {
   "cell_type": "markdown",
   "metadata": {},
   "source": [
    "Q13. Write the Python program to find the minimum window in the given\n",
    "string, which will contains all the characters of another given\n",
    "strings?\n",
    "\n",
    "    Example 1\n",
    "    Input : string1 = \" PRWSOERIUSFK \"\n",
    "    string2 = \" OSU \"\n",
    "    Output: Minimum window is \"OERIUS\""
   ]
  },
  {
   "cell_type": "code",
   "execution_count": 8,
   "metadata": {},
   "outputs": [
    {
     "name": "stdout",
     "output_type": "stream",
     "text": [
      "Enter your string1: PRWSOERIUSFK\n",
      "Enter your string2: OSU\n",
      "Original Strings:\n",
      " PRWSOERIUSFK \n",
      " OSU\n",
      "Minimum window:\n",
      "OERIUS\n"
     ]
    }
   ],
   "source": [
    "str1=input(\"Enter your string1: \")\n",
    "str2=input(\"Enter your string2: \")\n",
    "import collections\n",
    "def min_window(str1, str2):\n",
    "    result_char, missing_char = collections.Counter(str2), len(str2)\n",
    "    i = p = q = 0\n",
    "    for j, c in enumerate(str1, 1):\n",
    "        missing_char -= result_char[c] > 0\n",
    "        result_char[c] -= 1\n",
    "        if not missing_char:\n",
    "            while i < q and result_char[str1[i]] < 0:\n",
    "                result_char[str1[i]] += 1\n",
    "                i += 1\n",
    "            if not q or j - i <= q - p:\n",
    "                p, q = i, j\n",
    "    return str1[p:q]\n",
    "print(\"Original Strings:\\n\",str1,\"\\n\",str2)\n",
    "print(\"Minimum window:\")\n",
    "print(min_window(str1,str2))\n",
    "\n",
    "          "
   ]
  },
  {
   "cell_type": "markdown",
   "metadata": {},
   "source": [
    "Q14. Write the Python program to count number of substrings from a\n",
    "given string of lowercase alphabets with exactly k distinct (given)\n",
    "characters?\n",
    "\n",
    "    Input a string (lowercase alphabets): wolf\n",
    "    Input k: 4\n",
    "    Number of substrings with exactly 4 distinct characters: 1"
   ]
  },
  {
   "cell_type": "code",
   "execution_count": 7,
   "metadata": {},
   "outputs": [
    {
     "name": "stdout",
     "output_type": "stream",
     "text": [
      "Enter your string: Aditya\n",
      "Enter the value of k: 2\n",
      "Number of substrings with exactly 2 distinct characters: 5\n"
     ]
    }
   ],
   "source": [
    "str=input(\"Enter your string: \")\n",
    "k=int(input(\"Enter the value of k: \"))\n",
    "ans=0\n",
    "for i in range(0,len(str)):\n",
    "    s=set([])\n",
    "    for j in range(i,len(str)):\n",
    "       s.add(str[j])\n",
    "       if(len(s)==k):\n",
    "           ans=ans+1\n",
    "       if(len(s)>k):\n",
    "            break\n",
    "print(\"Number of substrings with exactly %d distinct characters: %d\"%(k,ans))    "
   ]
  },
  {
   "cell_type": "markdown",
   "metadata": {},
   "source": [
    "Q15. Write the Python program to count number of substrings with same\n",
    "first and last characters of the given string?\n",
    "\n",
    "    Input a string: abcd\n",
    "    4\n"
   ]
  },
  {
   "cell_type": "code",
   "execution_count": 3,
   "metadata": {},
   "outputs": [
    {
     "name": "stdout",
     "output_type": "stream",
     "text": [
      "Enter your string: abcd\n",
      "4\n"
     ]
    }
   ],
   "source": [
    "str=input(\"Enter your string: \")\n",
    "ans=0\n",
    "for i in range(0,len(str)):\n",
    "    for j in range(i,len(str)):\n",
    "        if str[i]==str[j]:\n",
    "            ans+=1\n",
    "print(ans)            \n",
    "        "
   ]
  },
  {
   "cell_type": "markdown",
   "metadata": {},
   "source": [
    "## Great Job!"
   ]
  }
 ],
 "metadata": {
  "kernelspec": {
   "display_name": "Python 3",
   "language": "python",
   "name": "python3"
  },
  "language_info": {
   "codemirror_mode": {
    "name": "ipython",
    "version": 3
   },
   "file_extension": ".py",
   "mimetype": "text/x-python",
   "name": "python",
   "nbconvert_exporter": "python",
   "pygments_lexer": "ipython3",
   "version": "3.6.8"
  }
 },
 "nbformat": 4,
 "nbformat_minor": 2
}
